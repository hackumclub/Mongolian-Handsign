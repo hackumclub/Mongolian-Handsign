{
 "cells": [
  {
   "cell_type": "code",
   "execution_count": 1,
   "metadata": {},
   "outputs": [],
   "source": [
    "import cv2\n",
    "import numpy as np\n",
    "import os\n",
    "from matplotlib import pyplot as plt\n",
    "import time\n",
    "import mediapipe as mp"
   ]
  },
  {
   "cell_type": "markdown",
   "metadata": {},
   "source": [
    "## 2. keypoints from dataset"
   ]
  },
  {
   "cell_type": "code",
   "execution_count": 2,
   "metadata": {},
   "outputs": [],
   "source": [
    "mp_holistic = mp.solutions.holistic \n",
    "mp_drawing = mp.solutions.drawing_utils "
   ]
  },
  {
   "cell_type": "code",
   "execution_count": 3,
   "metadata": {},
   "outputs": [],
   "source": [
    "def mediapipe_detection(image, model):\n",
    "    image = cv2.cvtColor(image, cv2.COLOR_BGR2RGB) \n",
    "    image.flags.writeable = False                  \n",
    "    results = model.process(image)                 \n",
    "    image.flags.writeable = True                    \n",
    "    image = cv2.cvtColor(image, cv2.COLOR_RGB2BGR) \n",
    "    return image, results"
   ]
  },
  {
   "cell_type": "code",
   "execution_count": 4,
   "metadata": {},
   "outputs": [],
   "source": [
    "def draw_landmarks(image, results):\n",
    "    mp_drawing.draw_landmarks(image, results.pose_landmarks, mp_holistic.POSE_CONNECTIONS) \n",
    "    mp_drawing.draw_landmarks(image, results.left_hand_landmarks, mp_holistic.HAND_CONNECTIONS)\n",
    "    mp_drawing.draw_landmarks(image, results.right_hand_landmarks, mp_holistic.HAND_CONNECTIONS)"
   ]
  },
  {
   "cell_type": "code",
   "execution_count": 1,
   "metadata": {},
   "outputs": [],
   "source": [
    "def draw_styled_landmarks(image, results):\n",
    "\n",
    "    mp_drawing.draw_landmarks(image, results.pose_landmarks, mp_holistic.POSE_CONNECTIONS,\n",
    "                             mp_drawing.DrawingSpec(color=(80,22,10), thickness=2, circle_radius=4), \n",
    "                             mp_drawing.DrawingSpec(color=(80,44,121), thickness=2, circle_radius=2)\n",
    "                             ) \n",
    "\n",
    "    mp_drawing.draw_landmarks(image, results.left_hand_landmarks, mp_holistic.HAND_CONNECTIONS, \n",
    "                             mp_drawing.DrawingSpec(color=(121,22,76), thickness=2, circle_radius=4), \n",
    "                             mp_drawing.DrawingSpec(color=(121,44,250), thickness=2, circle_radius=2)\n",
    "                             ) \n",
    " \n",
    "    mp_drawing.draw_landmarks(image, results.right_hand_landmarks, mp_holistic.HAND_CONNECTIONS, \n",
    "                             mp_drawing.DrawingSpec(color=(245,117,66), thickness=2, circle_radius=4), \n",
    "                             mp_drawing.DrawingSpec(color=(245,66,230), thickness=2, circle_radius=2)\n",
    "                             ) "
   ]
  },
  {
   "cell_type": "markdown",
   "metadata": {},
   "source": [
    "## 3. Extract Keypoint Values"
   ]
  },
  {
   "cell_type": "code",
   "execution_count": 16,
   "metadata": {},
   "outputs": [],
   "source": [
    "def extract_keypoints(results):\n",
    "    pose = np.array([[res.x, res.y, res.z, res.visibility] for res in results.pose_landmarks.landmark]).flatten() if results.pose_landmarks else np.zeros(33*4)\n",
    "    lh = np.array([[res.x, res.y, res.z] for res in results.left_hand_landmarks.landmark]).flatten() if results.left_hand_landmarks else np.zeros(21*3)\n",
    "    rh = np.array([[res.x, res.y, res.z] for res in results.right_hand_landmarks.landmark]).flatten() if results.right_hand_landmarks else np.zeros(21*3)\n",
    "    return np.concatenate([pose, lh, rh])"
   ]
  },
  {
   "cell_type": "code",
   "execution_count": 17,
   "metadata": {},
   "outputs": [
    {
     "data": {
      "text/plain": [
       "(258,)"
      ]
     },
     "execution_count": 17,
     "metadata": {},
     "output_type": "execute_result"
    }
   ],
   "source": [
    "result_test = extract_keypoints(results)\n",
    "result_test.shape"
   ]
  },
  {
   "cell_type": "markdown",
   "metadata": {},
   "source": [
    "## 4. Setup Folders for Collection"
   ]
  },
  {
   "cell_type": "code",
   "execution_count": 18,
   "metadata": {},
   "outputs": [],
   "source": [
    "# Path for exported data, numpy arrays\n",
    "DATA_PATH = os.path.join('keypoint_data_noface_2') \n",
    "\n",
    "# Actions that we try to detect\n",
    "actions = np.array([ \n",
    "        \"ali_ni_goy_amttai_ve\", \n",
    "        \"ger_buliin_bagts_baina_uu\",\n",
    "        \"kheden_minutiin_daraa_garakh_ve\",\n",
    "        \"naizuudiin_bagts_baina_uu\",\n",
    "        \"no_action\", \n",
    "        \"sain_baina_uu\",\n",
    "        \"salfetka_avay\",\n",
    "        \"uuchlaarai\",\n",
    "        \"00_khaana_ve\"\n",
    "     ])\n",
    "\n",
    "# Ten videos worth of data\n",
    "no_sequences = 99\n",
    "\n",
    "# Videos are going to be 45 frames in length\n",
    "sequence_length = 45"
   ]
  },
  {
   "cell_type": "code",
   "execution_count": 19,
   "metadata": {},
   "outputs": [],
   "source": [
    "for action in actions: \n",
    "    for sequence in range(no_sequences):\n",
    "        try: \n",
    "            os.makedirs(os.path.join(DATA_PATH, action, str(sequence)))\n",
    "        except:\n",
    "            pass"
   ]
  },
  {
   "cell_type": "code",
   "execution_count": null,
   "metadata": {},
   "outputs": [],
   "source": [
    "for action in actions:  \n",
    "    for sequence in range(no_sequences):\n",
    "        fileName = f\"raw_data/{action}/{sequence+1}.mp4\"\n",
    "        cap = cv2.VideoCapture(fileName)\n",
    "        with mp_holistic.Holistic(min_detection_confidence=0.8, min_tracking_confidence=0.8) as holistic:\n",
    "            for frame_num in range(sequence_length):\n",
    "                ret, frame = cap.read()\n",
    "                image, results = mediapipe_detection(frame, holistic)\n",
    "                draw_styled_landmarks(image, results)\n",
    "                keypoints = extract_keypoints(results)\n",
    "                npy_path = os.path.join(DATA_PATH, action, str(sequence), str(frame_num))\n",
    "                print(npy_path)\n",
    "                np.save(npy_path, keypoints)\n",
    "                if cv2.waitKey(10) & 0xFF == ord('q'):\n",
    "                    break\n",
    "            cap.release()\n",
    "            cv2.destroyAllWindows()"
   ]
  },
  {
   "cell_type": "code",
   "execution_count": 17,
   "metadata": {},
   "outputs": [],
   "source": [
    "cap.release()\n",
    "cv2.destroyAllWindows()"
   ]
  },
  {
   "cell_type": "markdown",
   "metadata": {},
   "source": [
    "\n",
    "## 5. Preprocessing"
   ]
  },
  {
   "cell_type": "code",
   "execution_count": 20,
   "metadata": {},
   "outputs": [
    {
     "name": "stderr",
     "output_type": "stream",
     "text": [
      "2022-04-01 18:19:52.663945: W tensorflow/stream_executor/platform/default/dso_loader.cc:64] Could not load dynamic library 'libcudart.so.11.0'; dlerror: libcudart.so.11.0: cannot open shared object file: No such file or directory; LD_LIBRARY_PATH: /home/saruul/.local/lib/python3.9/site-packages/cv2/../../lib64:\n",
      "2022-04-01 18:19:52.663966: I tensorflow/stream_executor/cuda/cudart_stub.cc:29] Ignore above cudart dlerror if you do not have a GPU set up on your machine.\n"
     ]
    }
   ],
   "source": [
    "from sklearn.model_selection import train_test_split\n",
    "from tensorflow.keras.utils import to_categorical"
   ]
  },
  {
   "cell_type": "code",
   "execution_count": 21,
   "metadata": {},
   "outputs": [],
   "source": [
    "label_map = {label:num for num, label in enumerate(actions)}"
   ]
  },
  {
   "cell_type": "code",
   "execution_count": 23,
   "metadata": {},
   "outputs": [
    {
     "name": "stdout",
     "output_type": "stream",
     "text": [
      "/home/saruul/dcomp/main/Mongolian-Handsign-Recognition\n"
     ]
    }
   ],
   "source": [
    "import os\n",
    "print(os.path.abspath(\".\"))"
   ]
  },
  {
   "cell_type": "code",
   "execution_count": 26,
   "metadata": {},
   "outputs": [
    {
     "data": {
      "text/plain": [
       "'keypoint_data_noface_2/00_khaana_ve/29/29.npy'"
      ]
     },
     "execution_count": 26,
     "metadata": {},
     "output_type": "execute_result"
    }
   ],
   "source": [
    "(os.path.join(DATA_PATH, action, str(sequence), \"{}.npy\".format(frame_num)))"
   ]
  },
  {
   "cell_type": "code",
   "execution_count": 25,
   "metadata": {},
   "outputs": [],
   "source": [
    "sequences, labels = [], []\n",
    "for action in actions:\n",
    "    for sequence in range(no_sequences):\n",
    "        window = []\n",
    "        for frame_num in range(sequence_length):\n",
    "            res = np.load(os.path.join(DATA_PATH, action, str(sequence), \"{}.npy\".format(frame_num)))\n",
    "            window.append(res)\n",
    "        sequences.append(window)\n",
    "        labels.append(label_map[action])"
   ]
  },
  {
   "cell_type": "code",
   "execution_count": 29,
   "metadata": {},
   "outputs": [
    {
     "name": "stdout",
     "output_type": "stream",
     "text": [
      "class:  ndarray\n",
      "shape:  (258,)\n",
      "strides:  (8,)\n",
      "itemsize:  8\n",
      "aligned:  True\n",
      "contiguous:  True\n",
      "fortran:  True\n",
      "data pointer: 0x56498b90d340\n",
      "byteorder:  little\n",
      "byteswap:  False\n",
      "type: float64\n",
      "1\n",
      "258\n"
     ]
    }
   ],
   "source": [
    "np.set_printoptions(threshold=np.inf)\n",
    "dummy_data = np.load(\"keypoint_data_noface/00_khaana_ve/0/5.npy\")\n",
    "np.info(dummy_data)\n",
    "print(dummy_data.ndim)\n",
    "print(dummy_data.size)"
   ]
  },
  {
   "cell_type": "code",
   "execution_count": 30,
   "metadata": {},
   "outputs": [],
   "source": [
    "X = np.array(sequences)"
   ]
  },
  {
   "cell_type": "code",
   "execution_count": 31,
   "metadata": {},
   "outputs": [
    {
     "data": {
      "text/plain": [
       "(270, 30, 258)"
      ]
     },
     "execution_count": 31,
     "metadata": {},
     "output_type": "execute_result"
    }
   ],
   "source": [
    "X.shape"
   ]
  },
  {
   "cell_type": "code",
   "execution_count": 32,
   "metadata": {},
   "outputs": [],
   "source": [
    "y = to_categorical(labels).astype(int)"
   ]
  },
  {
   "cell_type": "code",
   "execution_count": 33,
   "metadata": {},
   "outputs": [],
   "source": [
    "X_train, X_test, y_train, y_test = train_test_split(X, y, test_size=0.1, random_state=42)"
   ]
  },
  {
   "cell_type": "code",
   "execution_count": 34,
   "metadata": {},
   "outputs": [
    {
     "data": {
      "text/plain": [
       "(27, 9)"
      ]
     },
     "execution_count": 34,
     "metadata": {},
     "output_type": "execute_result"
    }
   ],
   "source": [
    "y_test.shape"
   ]
  },
  {
   "cell_type": "markdown",
   "metadata": {},
   "source": [
    "## 6. LSTM Neural Network"
   ]
  },
  {
   "cell_type": "code",
   "execution_count": 35,
   "metadata": {},
   "outputs": [],
   "source": [
    "from tensorflow.keras.models import Sequential\n",
    "from tensorflow.keras.layers import LSTM, Dense\n",
    "from tensorflow.keras.callbacks import TensorBoard\n",
    "from tensorflow import keras"
   ]
  },
  {
   "cell_type": "code",
   "execution_count": 36,
   "metadata": {},
   "outputs": [],
   "source": [
    "log_dir = os.path.join('Logs')\n",
    "tb_callback = TensorBoard(log_dir=log_dir)"
   ]
  },
  {
   "cell_type": "code",
   "execution_count": 39,
   "metadata": {},
   "outputs": [],
   "source": [
    "model = Sequential()\n",
    "model.add(LSTM(64, return_sequences=True, activation='relu', input_shape=(30,258)))\n",
    "model.add(LSTM(128, return_sequences=True, activation='relu'))\n",
    "model.add(LSTM(64, return_sequences=False, activation='relu'))\n",
    "model.add(Dense(32, activation='relu'))\n",
    "model.add(Dense(16, activation='relu'))\n",
    "model.add(Dense(actions.shape[0], activation='softmax'))"
   ]
  },
  {
   "cell_type": "code",
   "execution_count": 38,
   "metadata": {},
   "outputs": [],
   "source": [
    "opt = keras.optimizers.Adam(learning_rate=0.001)"
   ]
  },
  {
   "cell_type": "code",
   "execution_count": 40,
   "metadata": {},
   "outputs": [],
   "source": [
    "model.compile(optimizer=opt, loss='categorical_crossentropy', metrics=['categorical_accuracy'])"
   ]
  },
  {
   "cell_type": "code",
   "execution_count": 41,
   "metadata": {},
   "outputs": [
    {
     "name": "stdout",
     "output_type": "stream",
     "text": [
      "Model: \"sequential_1\"\n",
      "_________________________________________________________________\n",
      " Layer (type)                Output Shape              Param #   \n",
      "=================================================================\n",
      " lstm_3 (LSTM)               (None, 30, 64)            82688     \n",
      "                                                                 \n",
      " lstm_4 (LSTM)               (None, 30, 128)           98816     \n",
      "                                                                 \n",
      " lstm_5 (LSTM)               (None, 64)                49408     \n",
      "                                                                 \n",
      " dense_3 (Dense)             (None, 32)                2080      \n",
      "                                                                 \n",
      " dense_4 (Dense)             (None, 16)                528       \n",
      "                                                                 \n",
      " dense_5 (Dense)             (None, 9)                 153       \n",
      "                                                                 \n",
      "=================================================================\n",
      "Total params: 233,673\n",
      "Trainable params: 233,673\n",
      "Non-trainable params: 0\n",
      "_________________________________________________________________\n"
     ]
    }
   ],
   "source": [
    "model.summary()"
   ]
  },
  {
   "cell_type": "code",
   "execution_count": null,
   "metadata": {},
   "outputs": [
    {
     "name": "stdout",
     "output_type": "stream",
     "text": [
      "Epoch 1/300\n",
      "3/3 [==============================] - 4s 91ms/step - loss: 2.1957 - categorical_accuracy: 0.0895\n",
      "Epoch 2/300\n",
      "3/3 [==============================] - 0s 85ms/step - loss: 2.1657 - categorical_accuracy: 0.1173\n",
      "Epoch 3/300\n",
      "3/3 [==============================] - 0s 80ms/step - loss: 2.1112 - categorical_accuracy: 0.1420\n",
      "Epoch 4/300\n",
      "3/3 [==============================] - 0s 79ms/step - loss: 2.0055 - categorical_accuracy: 0.2377\n",
      "Epoch 5/300\n",
      "3/3 [==============================] - 0s 78ms/step - loss: 1.9437 - categorical_accuracy: 0.2222\n",
      "Epoch 6/300\n",
      "3/3 [==============================] - 0s 75ms/step - loss: 1.9823 - categorical_accuracy: 0.1944\n",
      "Epoch 7/300\n",
      "3/3 [==============================] - 0s 81ms/step - loss: 1.9790 - categorical_accuracy: 0.1944\n",
      "Epoch 8/300\n",
      "3/3 [==============================] - 0s 81ms/step - loss: 1.9802 - categorical_accuracy: 0.1790\n",
      "Epoch 9/300\n",
      "3/3 [==============================] - 0s 85ms/step - loss: 1.9324 - categorical_accuracy: 0.2160\n",
      "Epoch 10/300\n",
      "3/3 [==============================] - 0s 78ms/step - loss: 1.8917 - categorical_accuracy: 0.2778\n",
      "Epoch 11/300\n",
      "3/3 [==============================] - 0s 77ms/step - loss: 1.8637 - categorical_accuracy: 0.2623\n",
      "Epoch 12/300\n",
      "3/3 [==============================] - 0s 81ms/step - loss: 1.8941 - categorical_accuracy: 0.2346\n",
      "Epoch 13/300\n",
      "3/3 [==============================] - 0s 84ms/step - loss: 1.8890 - categorical_accuracy: 0.2593\n",
      "Epoch 14/300\n",
      "3/3 [==============================] - 0s 79ms/step - loss: 1.7877 - categorical_accuracy: 0.3025\n",
      "Epoch 15/300\n",
      "3/3 [==============================] - 0s 75ms/step - loss: 1.7255 - categorical_accuracy: 0.3426\n",
      "Epoch 16/300\n",
      "3/3 [==============================] - 0s 84ms/step - loss: 1.6752 - categorical_accuracy: 0.3117\n",
      "Epoch 17/300\n",
      "3/3 [==============================] - 0s 82ms/step - loss: 1.6753 - categorical_accuracy: 0.3056\n",
      "Epoch 18/300\n",
      "3/3 [==============================] - 0s 75ms/step - loss: 1.6744 - categorical_accuracy: 0.3488\n",
      "Epoch 19/300\n",
      "3/3 [==============================] - 0s 70ms/step - loss: 1.6900 - categorical_accuracy: 0.3519\n",
      "Epoch 20/300\n",
      "3/3 [==============================] - 0s 67ms/step - loss: 1.6365 - categorical_accuracy: 0.3704\n",
      "Epoch 21/300\n",
      "3/3 [==============================] - 0s 65ms/step - loss: 1.5949 - categorical_accuracy: 0.3735\n",
      "Epoch 22/300\n",
      "3/3 [==============================] - 0s 61ms/step - loss: 1.5629 - categorical_accuracy: 0.4228\n",
      "Epoch 23/300\n",
      "3/3 [==============================] - 0s 61ms/step - loss: 1.5692 - categorical_accuracy: 0.4259\n",
      "Epoch 24/300\n",
      "3/3 [==============================] - 0s 67ms/step - loss: 1.5487 - categorical_accuracy: 0.4167\n",
      "Epoch 25/300\n",
      "3/3 [==============================] - 0s 66ms/step - loss: 1.4818 - categorical_accuracy: 0.4198\n",
      "Epoch 26/300\n",
      "3/3 [==============================] - 0s 68ms/step - loss: 1.4024 - categorical_accuracy: 0.4568\n",
      "Epoch 27/300\n",
      "3/3 [==============================] - 0s 65ms/step - loss: 1.3628 - categorical_accuracy: 0.4599\n",
      "Epoch 28/300\n",
      "3/3 [==============================] - 0s 67ms/step - loss: 1.2916 - categorical_accuracy: 0.4630\n",
      "Epoch 29/300\n",
      "3/3 [==============================] - 0s 69ms/step - loss: 1.2529 - categorical_accuracy: 0.4877\n",
      "Epoch 30/300\n",
      "3/3 [==============================] - 0s 66ms/step - loss: 1.2908 - categorical_accuracy: 0.4630\n",
      "Epoch 31/300\n",
      "3/3 [==============================] - 0s 65ms/step - loss: 1.3053 - categorical_accuracy: 0.4537\n",
      "Epoch 32/300\n",
      "3/3 [==============================] - 0s 63ms/step - loss: 1.3423 - categorical_accuracy: 0.4599\n",
      "Epoch 33/300\n",
      "3/3 [==============================] - 0s 71ms/step - loss: 1.3056 - categorical_accuracy: 0.4722\n",
      "Epoch 34/300\n",
      "3/3 [==============================] - 0s 66ms/step - loss: 1.2904 - categorical_accuracy: 0.5062\n",
      "Epoch 35/300\n",
      "3/3 [==============================] - 0s 65ms/step - loss: 1.2218 - categorical_accuracy: 0.5370\n",
      "Epoch 36/300\n",
      "3/3 [==============================] - 0s 66ms/step - loss: 1.1570 - categorical_accuracy: 0.5525\n",
      "Epoch 37/300\n",
      "3/3 [==============================] - 0s 64ms/step - loss: 1.0924 - categorical_accuracy: 0.5617\n",
      "Epoch 38/300\n",
      "3/3 [==============================] - 0s 64ms/step - loss: 1.1049 - categorical_accuracy: 0.5741\n",
      "Epoch 39/300\n",
      "3/3 [==============================] - 0s 65ms/step - loss: 1.1100 - categorical_accuracy: 0.5772\n",
      "Epoch 40/300\n",
      "3/3 [==============================] - 0s 66ms/step - loss: 1.4762 - categorical_accuracy: 0.4907\n",
      "Epoch 41/300\n",
      "3/3 [==============================] - 0s 72ms/step - loss: 1.4220 - categorical_accuracy: 0.4475\n",
      "Epoch 42/300\n",
      "3/3 [==============================] - 0s 58ms/step - loss: 1.4245 - categorical_accuracy: 0.4599\n",
      "Epoch 43/300\n",
      "3/3 [==============================] - 0s 61ms/step - loss: 1.2952 - categorical_accuracy: 0.4660\n",
      "Epoch 44/300\n",
      "3/3 [==============================] - 0s 63ms/step - loss: 1.3570 - categorical_accuracy: 0.4660\n",
      "Epoch 45/300\n",
      "3/3 [==============================] - 0s 65ms/step - loss: 1.3266 - categorical_accuracy: 0.4815\n",
      "Epoch 46/300\n",
      "3/3 [==============================] - 0s 64ms/step - loss: 1.3489 - categorical_accuracy: 0.4136\n",
      "Epoch 47/300\n",
      "3/3 [==============================] - 0s 69ms/step - loss: 1.2824 - categorical_accuracy: 0.5185\n",
      "Epoch 48/300\n",
      "3/3 [==============================] - 0s 68ms/step - loss: 1.2396 - categorical_accuracy: 0.5432\n",
      "Epoch 49/300\n",
      "3/3 [==============================] - 0s 61ms/step - loss: 1.3177 - categorical_accuracy: 0.5000\n",
      "Epoch 50/300\n",
      "3/3 [==============================] - 0s 71ms/step - loss: 1.2335 - categorical_accuracy: 0.5031\n",
      "Epoch 51/300\n",
      "3/3 [==============================] - 0s 68ms/step - loss: 1.2674 - categorical_accuracy: 0.4599\n",
      "Epoch 52/300\n",
      "3/3 [==============================] - 0s 68ms/step - loss: 1.1512 - categorical_accuracy: 0.5525\n",
      "Epoch 53/300\n",
      "3/3 [==============================] - 0s 69ms/step - loss: 1.1239 - categorical_accuracy: 0.5494\n",
      "Epoch 54/300\n",
      "3/3 [==============================] - 0s 64ms/step - loss: 1.0979 - categorical_accuracy: 0.5710\n",
      "Epoch 55/300\n",
      "3/3 [==============================] - 0s 65ms/step - loss: 1.1122 - categorical_accuracy: 0.5463\n",
      "Epoch 56/300\n",
      "3/3 [==============================] - 0s 64ms/step - loss: 1.4169 - categorical_accuracy: 0.4691\n",
      "Epoch 57/300\n",
      "3/3 [==============================] - 0s 66ms/step - loss: 1.3195 - categorical_accuracy: 0.4969\n",
      "Epoch 58/300\n",
      "3/3 [==============================] - 0s 63ms/step - loss: 1.4135 - categorical_accuracy: 0.4290\n",
      "Epoch 59/300\n",
      "3/3 [==============================] - 0s 64ms/step - loss: 1.4188 - categorical_accuracy: 0.4352\n",
      "Epoch 60/300\n",
      "3/3 [==============================] - 0s 66ms/step - loss: 1.2668 - categorical_accuracy: 0.4846\n",
      "Epoch 61/300\n",
      "3/3 [==============================] - 0s 68ms/step - loss: 1.3330 - categorical_accuracy: 0.5247\n",
      "Epoch 62/300\n",
      "3/3 [==============================] - 0s 68ms/step - loss: 1.2141 - categorical_accuracy: 0.5340\n",
      "Epoch 63/300\n",
      "3/3 [==============================] - 0s 67ms/step - loss: 1.1139 - categorical_accuracy: 0.5741\n",
      "Epoch 64/300\n",
      "3/3 [==============================] - 0s 68ms/step - loss: 1.0945 - categorical_accuracy: 0.5617\n",
      "Epoch 65/300\n",
      "3/3 [==============================] - 0s 71ms/step - loss: 1.0812 - categorical_accuracy: 0.5926\n",
      "Epoch 66/300\n",
      "3/3 [==============================] - 0s 67ms/step - loss: 1.0307 - categorical_accuracy: 0.6049\n",
      "Epoch 67/300\n",
      "3/3 [==============================] - 0s 68ms/step - loss: 1.0199 - categorical_accuracy: 0.6173\n",
      "Epoch 68/300\n",
      "3/3 [==============================] - 0s 67ms/step - loss: 0.9848 - categorical_accuracy: 0.6235\n",
      "Epoch 69/300\n",
      "3/3 [==============================] - 0s 68ms/step - loss: 0.9800 - categorical_accuracy: 0.6049\n",
      "Epoch 70/300\n",
      "3/3 [==============================] - 0s 64ms/step - loss: 0.9033 - categorical_accuracy: 0.6667\n",
      "Epoch 71/300\n",
      "3/3 [==============================] - 0s 67ms/step - loss: 0.9522 - categorical_accuracy: 0.6080\n",
      "Epoch 72/300\n",
      "3/3 [==============================] - 0s 69ms/step - loss: 0.8571 - categorical_accuracy: 0.6852\n",
      "Epoch 73/300\n",
      "3/3 [==============================] - 0s 66ms/step - loss: 0.8401 - categorical_accuracy: 0.6944\n",
      "Epoch 74/300\n",
      "3/3 [==============================] - 0s 75ms/step - loss: 0.8599 - categorical_accuracy: 0.6790\n",
      "Epoch 75/300\n",
      "3/3 [==============================] - 0s 63ms/step - loss: 0.8344 - categorical_accuracy: 0.6975\n",
      "Epoch 76/300\n",
      "3/3 [==============================] - 0s 65ms/step - loss: 0.7999 - categorical_accuracy: 0.7068\n",
      "Epoch 77/300\n",
      "3/3 [==============================] - 0s 63ms/step - loss: 0.7610 - categorical_accuracy: 0.7346\n",
      "Epoch 78/300\n",
      "3/3 [==============================] - 0s 71ms/step - loss: 0.8038 - categorical_accuracy: 0.6728\n",
      "Epoch 79/300\n",
      "3/3 [==============================] - 0s 63ms/step - loss: 0.8823 - categorical_accuracy: 0.6852\n",
      "Epoch 80/300\n",
      "3/3 [==============================] - 0s 61ms/step - loss: 0.8999 - categorical_accuracy: 0.6451\n",
      "Epoch 81/300\n",
      "3/3 [==============================] - 0s 66ms/step - loss: 0.7992 - categorical_accuracy: 0.7006\n",
      "Epoch 82/300\n",
      "3/3 [==============================] - 0s 67ms/step - loss: 0.7863 - categorical_accuracy: 0.7284\n",
      "Epoch 83/300\n",
      "3/3 [==============================] - 0s 67ms/step - loss: 0.7861 - categorical_accuracy: 0.6944\n",
      "Epoch 84/300\n",
      "3/3 [==============================] - 0s 68ms/step - loss: 0.8601 - categorical_accuracy: 0.6543\n",
      "Epoch 85/300\n",
      "3/3 [==============================] - 0s 63ms/step - loss: 0.8138 - categorical_accuracy: 0.6914\n",
      "Epoch 86/300\n",
      "3/3 [==============================] - 0s 65ms/step - loss: 0.7693 - categorical_accuracy: 0.7315\n",
      "Epoch 87/300\n",
      "3/3 [==============================] - 0s 65ms/step - loss: 0.7635 - categorical_accuracy: 0.7315\n",
      "Epoch 88/300\n",
      "3/3 [==============================] - 0s 64ms/step - loss: 0.6942 - categorical_accuracy: 0.7377\n",
      "Epoch 89/300\n",
      "3/3 [==============================] - 0s 63ms/step - loss: 0.7310 - categorical_accuracy: 0.7222\n",
      "Epoch 90/300\n",
      "3/3 [==============================] - 0s 69ms/step - loss: 0.6881 - categorical_accuracy: 0.7222\n",
      "Epoch 91/300\n",
      "3/3 [==============================] - 0s 61ms/step - loss: 0.6756 - categorical_accuracy: 0.7593\n",
      "Epoch 92/300\n",
      "3/3 [==============================] - 0s 82ms/step - loss: 0.6468 - categorical_accuracy: 0.7469\n",
      "Epoch 93/300\n",
      "3/3 [==============================] - 0s 72ms/step - loss: 0.7160 - categorical_accuracy: 0.7099\n",
      "Epoch 94/300\n",
      "3/3 [==============================] - 0s 66ms/step - loss: 0.8658 - categorical_accuracy: 0.6852\n",
      "Epoch 95/300\n",
      "3/3 [==============================] - 0s 64ms/step - loss: 0.7665 - categorical_accuracy: 0.7160\n",
      "Epoch 96/300\n",
      "3/3 [==============================] - 0s 65ms/step - loss: 0.7390 - categorical_accuracy: 0.7191\n",
      "Epoch 97/300\n",
      "3/3 [==============================] - 0s 67ms/step - loss: 0.7205 - categorical_accuracy: 0.7407\n",
      "Epoch 98/300\n",
      "3/3 [==============================] - 0s 66ms/step - loss: 0.7123 - categorical_accuracy: 0.7469\n",
      "Epoch 99/300\n",
      "3/3 [==============================] - 0s 66ms/step - loss: 0.6708 - categorical_accuracy: 0.7593\n",
      "Epoch 100/300\n",
      "3/3 [==============================] - 0s 70ms/step - loss: 0.7883 - categorical_accuracy: 0.7099\n",
      "Epoch 101/300\n",
      "3/3 [==============================] - 0s 68ms/step - loss: 0.6779 - categorical_accuracy: 0.7315\n",
      "Epoch 102/300\n",
      "3/3 [==============================] - 0s 69ms/step - loss: 0.7390 - categorical_accuracy: 0.7099\n",
      "Epoch 103/300\n",
      "3/3 [==============================] - 0s 68ms/step - loss: 0.7653 - categorical_accuracy: 0.7222\n",
      "Epoch 104/300\n",
      "3/3 [==============================] - 0s 71ms/step - loss: 0.7536 - categorical_accuracy: 0.7593\n",
      "Epoch 105/300\n",
      "3/3 [==============================] - 0s 71ms/step - loss: 0.6661 - categorical_accuracy: 0.7531\n",
      "Epoch 106/300\n",
      "3/3 [==============================] - 0s 67ms/step - loss: 0.6257 - categorical_accuracy: 0.7747\n",
      "Epoch 107/300\n",
      "3/3 [==============================] - 0s 66ms/step - loss: 0.5880 - categorical_accuracy: 0.7716\n",
      "Epoch 108/300\n",
      "3/3 [==============================] - 0s 67ms/step - loss: 0.5742 - categorical_accuracy: 0.7716\n",
      "Epoch 109/300\n",
      "3/3 [==============================] - 0s 65ms/step - loss: 0.5710 - categorical_accuracy: 0.7963\n",
      "Epoch 110/300\n",
      "3/3 [==============================] - 0s 60ms/step - loss: 0.8237 - categorical_accuracy: 0.7469\n",
      "Epoch 111/300\n",
      "3/3 [==============================] - 0s 68ms/step - loss: 1.2053 - categorical_accuracy: 0.5710\n",
      "Epoch 112/300\n",
      "3/3 [==============================] - 0s 61ms/step - loss: 1.1671 - categorical_accuracy: 0.5741\n",
      "Epoch 113/300\n",
      "3/3 [==============================] - 0s 66ms/step - loss: 1.1680 - categorical_accuracy: 0.6173\n",
      "Epoch 114/300\n",
      "3/3 [==============================] - 0s 77ms/step - loss: 1.3484 - categorical_accuracy: 0.5525\n",
      "Epoch 115/300\n",
      "3/3 [==============================] - 0s 65ms/step - loss: 1.4242 - categorical_accuracy: 0.5185\n",
      "Epoch 116/300\n",
      "3/3 [==============================] - 0s 64ms/step - loss: 1.2895 - categorical_accuracy: 0.5772\n",
      "Epoch 117/300\n",
      "3/3 [==============================] - 0s 66ms/step - loss: 1.1698 - categorical_accuracy: 0.6265\n",
      "Epoch 118/300\n",
      "3/3 [==============================] - 0s 66ms/step - loss: 1.0269 - categorical_accuracy: 0.6698\n",
      "Epoch 119/300\n",
      "3/3 [==============================] - 0s 69ms/step - loss: 1.2179 - categorical_accuracy: 0.5957\n",
      "Epoch 120/300\n",
      "3/3 [==============================] - 0s 67ms/step - loss: 1.1041 - categorical_accuracy: 0.5988\n",
      "Epoch 121/300\n",
      "3/3 [==============================] - 0s 62ms/step - loss: 1.0371 - categorical_accuracy: 0.6265\n",
      "Epoch 122/300\n",
      "3/3 [==============================] - 0s 63ms/step - loss: 1.0086 - categorical_accuracy: 0.6019\n",
      "Epoch 123/300\n",
      "3/3 [==============================] - 0s 68ms/step - loss: 0.9844 - categorical_accuracy: 0.6451\n",
      "Epoch 124/300\n",
      "3/3 [==============================] - 0s 68ms/step - loss: 0.9523 - categorical_accuracy: 0.7006\n",
      "Epoch 125/300\n",
      "3/3 [==============================] - 0s 65ms/step - loss: 0.8720 - categorical_accuracy: 0.6759\n",
      "Epoch 126/300\n",
      "3/3 [==============================] - 0s 62ms/step - loss: 0.8016 - categorical_accuracy: 0.7222\n",
      "Epoch 127/300\n",
      "3/3 [==============================] - 0s 68ms/step - loss: 0.8083 - categorical_accuracy: 0.7006\n",
      "Epoch 128/300\n",
      "3/3 [==============================] - 0s 71ms/step - loss: 0.8270 - categorical_accuracy: 0.7191\n",
      "Epoch 129/300\n",
      "3/3 [==============================] - 0s 65ms/step - loss: 0.7461 - categorical_accuracy: 0.7562\n",
      "Epoch 130/300\n",
      "3/3 [==============================] - 0s 68ms/step - loss: 0.7393 - categorical_accuracy: 0.6975\n",
      "Epoch 131/300\n",
      "3/3 [==============================] - 0s 66ms/step - loss: 0.6650 - categorical_accuracy: 0.7438\n",
      "Epoch 132/300\n",
      "3/3 [==============================] - 0s 68ms/step - loss: 0.6396 - categorical_accuracy: 0.7593\n",
      "Epoch 133/300\n",
      "3/3 [==============================] - 0s 66ms/step - loss: 0.5843 - categorical_accuracy: 0.7870\n",
      "Epoch 134/300\n",
      "3/3 [==============================] - 0s 67ms/step - loss: 0.5814 - categorical_accuracy: 0.7809\n",
      "Epoch 135/300\n",
      "3/3 [==============================] - 0s 64ms/step - loss: 0.5491 - categorical_accuracy: 0.8025\n",
      "Epoch 136/300\n",
      "3/3 [==============================] - 0s 71ms/step - loss: 0.6338 - categorical_accuracy: 0.7623\n",
      "Epoch 137/300\n",
      "3/3 [==============================] - 0s 69ms/step - loss: 0.7238 - categorical_accuracy: 0.7377\n",
      "Epoch 138/300\n",
      "3/3 [==============================] - 0s 66ms/step - loss: 0.7679 - categorical_accuracy: 0.6914\n",
      "Epoch 139/300\n",
      "3/3 [==============================] - 0s 70ms/step - loss: 0.7484 - categorical_accuracy: 0.6914\n",
      "Epoch 140/300\n",
      "3/3 [==============================] - 0s 71ms/step - loss: 0.6739 - categorical_accuracy: 0.7191\n",
      "Epoch 141/300\n",
      "3/3 [==============================] - 0s 70ms/step - loss: 0.6305 - categorical_accuracy: 0.7407\n",
      "Epoch 142/300\n",
      "3/3 [==============================] - 0s 63ms/step - loss: 0.6175 - categorical_accuracy: 0.7593\n",
      "Epoch 143/300\n",
      "3/3 [==============================] - 0s 69ms/step - loss: 0.6241 - categorical_accuracy: 0.7562\n",
      "Epoch 144/300\n",
      "3/3 [==============================] - 0s 69ms/step - loss: 0.5979 - categorical_accuracy: 0.7778\n",
      "Epoch 145/300\n",
      "3/3 [==============================] - 0s 68ms/step - loss: 0.9456 - categorical_accuracy: 0.6914\n",
      "Epoch 146/300\n",
      "3/3 [==============================] - 0s 67ms/step - loss: 0.8846 - categorical_accuracy: 0.6698\n",
      "Epoch 147/300\n",
      "3/3 [==============================] - 0s 66ms/step - loss: 0.7875 - categorical_accuracy: 0.6975\n",
      "Epoch 148/300\n",
      "3/3 [==============================] - 0s 66ms/step - loss: 0.7244 - categorical_accuracy: 0.7654\n",
      "Epoch 149/300\n",
      "3/3 [==============================] - 0s 65ms/step - loss: 0.7811 - categorical_accuracy: 0.7623\n",
      "Epoch 150/300\n",
      "3/3 [==============================] - 0s 67ms/step - loss: 0.7419 - categorical_accuracy: 0.7160\n",
      "Epoch 151/300\n",
      "3/3 [==============================] - 0s 68ms/step - loss: 0.7044 - categorical_accuracy: 0.7377\n",
      "Epoch 152/300\n",
      "3/3 [==============================] - 0s 65ms/step - loss: 0.7180 - categorical_accuracy: 0.7531\n",
      "Epoch 153/300\n",
      "3/3 [==============================] - 0s 66ms/step - loss: 0.6114 - categorical_accuracy: 0.7932\n",
      "Epoch 154/300\n",
      "3/3 [==============================] - 0s 66ms/step - loss: 0.5680 - categorical_accuracy: 0.7994\n",
      "Epoch 155/300\n",
      "3/3 [==============================] - 0s 86ms/step - loss: 0.5633 - categorical_accuracy: 0.8056\n",
      "Epoch 156/300\n",
      "3/3 [==============================] - 0s 61ms/step - loss: 0.5116 - categorical_accuracy: 0.8241\n",
      "Epoch 157/300\n",
      "3/3 [==============================] - 0s 67ms/step - loss: 0.5204 - categorical_accuracy: 0.8272\n",
      "Epoch 158/300\n",
      "3/3 [==============================] - 0s 72ms/step - loss: 0.4948 - categorical_accuracy: 0.8179\n",
      "Epoch 159/300\n",
      "3/3 [==============================] - 0s 65ms/step - loss: 0.4475 - categorical_accuracy: 0.8364\n",
      "Epoch 160/300\n",
      "3/3 [==============================] - 0s 64ms/step - loss: 0.4402 - categorical_accuracy: 0.8364\n",
      "Epoch 161/300\n",
      "3/3 [==============================] - 0s 69ms/step - loss: 0.5965 - categorical_accuracy: 0.7716\n",
      "Epoch 162/300\n",
      "3/3 [==============================] - 0s 65ms/step - loss: 0.6665 - categorical_accuracy: 0.7654\n",
      "Epoch 163/300\n",
      "3/3 [==============================] - 0s 73ms/step - loss: 0.6364 - categorical_accuracy: 0.7716\n",
      "Epoch 164/300\n",
      "3/3 [==============================] - 0s 74ms/step - loss: 0.6158 - categorical_accuracy: 0.7901\n",
      "Epoch 165/300\n",
      "3/3 [==============================] - 0s 68ms/step - loss: 0.5396 - categorical_accuracy: 0.8179\n",
      "Epoch 166/300\n",
      "3/3 [==============================] - 0s 73ms/step - loss: 0.4892 - categorical_accuracy: 0.8086\n",
      "Epoch 167/300\n",
      "3/3 [==============================] - 0s 65ms/step - loss: 0.4772 - categorical_accuracy: 0.8117\n",
      "Epoch 168/300\n",
      "3/3 [==============================] - 0s 68ms/step - loss: 0.4266 - categorical_accuracy: 0.8580\n",
      "Epoch 169/300\n",
      "3/3 [==============================] - 0s 64ms/step - loss: 0.4246 - categorical_accuracy: 0.8519\n",
      "Epoch 170/300\n",
      "3/3 [==============================] - 0s 67ms/step - loss: 0.4058 - categorical_accuracy: 0.8426\n",
      "Epoch 171/300\n",
      "3/3 [==============================] - 0s 66ms/step - loss: 0.3825 - categorical_accuracy: 0.8673\n",
      "Epoch 172/300\n",
      "3/3 [==============================] - 0s 68ms/step - loss: 0.4170 - categorical_accuracy: 0.8611\n",
      "Epoch 173/300\n",
      "3/3 [==============================] - 0s 69ms/step - loss: 0.3940 - categorical_accuracy: 0.8580\n",
      "Epoch 174/300\n",
      "3/3 [==============================] - 0s 71ms/step - loss: 0.4264 - categorical_accuracy: 0.8519\n",
      "Epoch 175/300\n",
      "3/3 [==============================] - 0s 80ms/step - loss: 0.4563 - categorical_accuracy: 0.8426\n",
      "Epoch 176/300\n",
      "3/3 [==============================] - 0s 67ms/step - loss: 0.4850 - categorical_accuracy: 0.7963\n",
      "Epoch 177/300\n",
      "3/3 [==============================] - 0s 66ms/step - loss: 0.4220 - categorical_accuracy: 0.8426\n",
      "Epoch 178/300\n",
      "3/3 [==============================] - 0s 73ms/step - loss: 0.4311 - categorical_accuracy: 0.8241\n",
      "Epoch 179/300\n",
      "3/3 [==============================] - 0s 68ms/step - loss: 0.3897 - categorical_accuracy: 0.8642\n",
      "Epoch 180/300\n",
      "3/3 [==============================] - 0s 63ms/step - loss: 0.4746 - categorical_accuracy: 0.8302\n",
      "Epoch 181/300\n",
      "3/3 [==============================] - 0s 71ms/step - loss: 0.3663 - categorical_accuracy: 0.8704\n",
      "Epoch 182/300\n",
      "3/3 [==============================] - 0s 71ms/step - loss: 0.3766 - categorical_accuracy: 0.8704\n",
      "Epoch 183/300\n",
      "3/3 [==============================] - 0s 70ms/step - loss: 0.3351 - categorical_accuracy: 0.8827\n",
      "Epoch 184/300\n",
      "3/3 [==============================] - 0s 68ms/step - loss: 0.3564 - categorical_accuracy: 0.8735\n",
      "Epoch 185/300\n",
      "3/3 [==============================] - 0s 69ms/step - loss: 0.3095 - categorical_accuracy: 0.8920\n",
      "Epoch 186/300\n",
      "3/3 [==============================] - 0s 66ms/step - loss: 0.3504 - categorical_accuracy: 0.8765\n",
      "Epoch 187/300\n",
      "3/3 [==============================] - 0s 66ms/step - loss: 0.4738 - categorical_accuracy: 0.8364\n",
      "Epoch 188/300\n",
      "3/3 [==============================] - 0s 70ms/step - loss: 0.4420 - categorical_accuracy: 0.8272\n",
      "Epoch 189/300\n",
      "3/3 [==============================] - 0s 70ms/step - loss: 0.4999 - categorical_accuracy: 0.8086\n",
      "Epoch 190/300\n",
      "3/3 [==============================] - 0s 66ms/step - loss: 0.4170 - categorical_accuracy: 0.8333\n",
      "Epoch 191/300\n",
      "3/3 [==============================] - 0s 68ms/step - loss: 0.3674 - categorical_accuracy: 0.8549\n",
      "Epoch 192/300\n",
      "3/3 [==============================] - 0s 68ms/step - loss: 0.3838 - categorical_accuracy: 0.8488\n",
      "Epoch 193/300\n",
      "3/3 [==============================] - 0s 71ms/step - loss: 0.3186 - categorical_accuracy: 0.8796\n",
      "Epoch 194/300\n",
      "3/3 [==============================] - 0s 70ms/step - loss: 0.3630 - categorical_accuracy: 0.8827\n",
      "Epoch 195/300\n",
      "3/3 [==============================] - 0s 69ms/step - loss: 0.3384 - categorical_accuracy: 0.8735\n",
      "Epoch 196/300\n",
      "3/3 [==============================] - 0s 66ms/step - loss: 0.3188 - categorical_accuracy: 0.8858\n",
      "Epoch 197/300\n",
      "3/3 [==============================] - 0s 67ms/step - loss: 0.3698 - categorical_accuracy: 0.8611\n",
      "Epoch 198/300\n",
      "3/3 [==============================] - 0s 67ms/step - loss: 0.3515 - categorical_accuracy: 0.8673\n",
      "Epoch 199/300\n",
      "3/3 [==============================] - 0s 59ms/step - loss: 0.2828 - categorical_accuracy: 0.8951\n",
      "Epoch 200/300\n",
      "3/3 [==============================] - 0s 63ms/step - loss: 0.2308 - categorical_accuracy: 0.9259\n",
      "Epoch 201/300\n",
      "3/3 [==============================] - 0s 63ms/step - loss: 0.2576 - categorical_accuracy: 0.9043\n",
      "Epoch 202/300\n",
      "3/3 [==============================] - 0s 62ms/step - loss: 0.3842 - categorical_accuracy: 0.8827\n",
      "Epoch 203/300\n",
      "3/3 [==============================] - 0s 67ms/step - loss: 1.0034 - categorical_accuracy: 0.7685\n",
      "Epoch 204/300\n",
      "3/3 [==============================] - 0s 62ms/step - loss: 0.9057 - categorical_accuracy: 0.7346\n",
      "Epoch 205/300\n",
      "3/3 [==============================] - 0s 60ms/step - loss: 0.9224 - categorical_accuracy: 0.7315\n",
      "Epoch 206/300\n",
      "3/3 [==============================] - 0s 64ms/step - loss: 0.7637 - categorical_accuracy: 0.7284\n",
      "Epoch 207/300\n",
      "3/3 [==============================] - 0s 64ms/step - loss: 1.0037 - categorical_accuracy: 0.6975\n",
      "Epoch 208/300\n",
      "3/3 [==============================] - 0s 65ms/step - loss: 0.7627 - categorical_accuracy: 0.7407\n",
      "Epoch 209/300\n",
      "3/3 [==============================] - 0s 67ms/step - loss: 0.8128 - categorical_accuracy: 0.6790\n",
      "Epoch 210/300\n",
      "3/3 [==============================] - 0s 70ms/step - loss: 0.6522 - categorical_accuracy: 0.7593\n",
      "Epoch 211/300\n",
      "3/3 [==============================] - 0s 72ms/step - loss: 0.5994 - categorical_accuracy: 0.7994\n",
      "Epoch 212/300\n",
      "3/3 [==============================] - 0s 65ms/step - loss: 0.5414 - categorical_accuracy: 0.8117\n",
      "Epoch 213/300\n",
      "3/3 [==============================] - 0s 72ms/step - loss: 0.4651 - categorical_accuracy: 0.8302\n",
      "Epoch 214/300\n",
      "3/3 [==============================] - 0s 65ms/step - loss: 0.4099 - categorical_accuracy: 0.8704\n",
      "Epoch 215/300\n",
      "3/3 [==============================] - 0s 66ms/step - loss: 0.3578 - categorical_accuracy: 0.8735\n",
      "Epoch 216/300\n",
      "3/3 [==============================] - 0s 65ms/step - loss: 0.3579 - categorical_accuracy: 0.8981\n",
      "Epoch 217/300\n",
      "3/3 [==============================] - 0s 62ms/step - loss: 0.2950 - categorical_accuracy: 0.9012\n",
      "Epoch 218/300\n",
      "3/3 [==============================] - 0s 71ms/step - loss: 0.3294 - categorical_accuracy: 0.8827\n",
      "Epoch 219/300\n",
      "3/3 [==============================] - 0s 63ms/step - loss: 0.2860 - categorical_accuracy: 0.9043\n",
      "Epoch 220/300\n",
      "3/3 [==============================] - 0s 63ms/step - loss: 0.2502 - categorical_accuracy: 0.9228\n",
      "Epoch 221/300\n",
      "3/3 [==============================] - 0s 66ms/step - loss: 0.2398 - categorical_accuracy: 0.9444\n",
      "Epoch 222/300\n",
      "3/3 [==============================] - 0s 68ms/step - loss: 0.4265 - categorical_accuracy: 0.8735\n",
      "Epoch 223/300\n",
      "3/3 [==============================] - 0s 64ms/step - loss: 0.3297 - categorical_accuracy: 0.8889\n",
      "Epoch 224/300\n",
      "3/3 [==============================] - 0s 65ms/step - loss: 0.4284 - categorical_accuracy: 0.8364\n",
      "Epoch 225/300\n",
      "3/3 [==============================] - 0s 68ms/step - loss: 0.5343 - categorical_accuracy: 0.7963\n",
      "Epoch 226/300\n",
      "3/3 [==============================] - 0s 67ms/step - loss: 0.4596 - categorical_accuracy: 0.8302\n",
      "Epoch 227/300\n",
      "3/3 [==============================] - 0s 70ms/step - loss: 0.4243 - categorical_accuracy: 0.8426\n",
      "Epoch 228/300\n",
      "3/3 [==============================] - 0s 65ms/step - loss: 0.3316 - categorical_accuracy: 0.8796\n",
      "Epoch 229/300\n",
      "3/3 [==============================] - 0s 66ms/step - loss: 0.3519 - categorical_accuracy: 0.8704\n",
      "Epoch 230/300\n",
      "3/3 [==============================] - 0s 91ms/step - loss: 0.2774 - categorical_accuracy: 0.9043\n",
      "Epoch 231/300\n",
      "3/3 [==============================] - 0s 72ms/step - loss: 0.2415 - categorical_accuracy: 0.9228\n",
      "Epoch 232/300\n",
      "3/3 [==============================] - 0s 69ms/step - loss: 0.2279 - categorical_accuracy: 0.9167\n",
      "Epoch 233/300\n",
      "3/3 [==============================] - 0s 66ms/step - loss: 0.2227 - categorical_accuracy: 0.9167\n",
      "Epoch 234/300\n",
      "3/3 [==============================] - 0s 70ms/step - loss: 0.2450 - categorical_accuracy: 0.9105\n",
      "Epoch 235/300\n",
      "3/3 [==============================] - 0s 68ms/step - loss: 0.2573 - categorical_accuracy: 0.8858\n",
      "Epoch 236/300\n",
      "3/3 [==============================] - 0s 70ms/step - loss: 0.2974 - categorical_accuracy: 0.8920\n",
      "Epoch 237/300\n",
      "3/3 [==============================] - 0s 63ms/step - loss: 0.3669 - categorical_accuracy: 0.8426\n",
      "Epoch 238/300\n",
      "3/3 [==============================] - 0s 62ms/step - loss: 0.4881 - categorical_accuracy: 0.8117\n",
      "Epoch 239/300\n",
      "3/3 [==============================] - 0s 62ms/step - loss: 0.3097 - categorical_accuracy: 0.8858\n",
      "Epoch 240/300\n",
      "3/3 [==============================] - 0s 64ms/step - loss: 0.2547 - categorical_accuracy: 0.8858\n",
      "Epoch 241/300\n",
      "3/3 [==============================] - 0s 60ms/step - loss: 0.2855 - categorical_accuracy: 0.8673\n",
      "Epoch 242/300\n",
      "3/3 [==============================] - 0s 58ms/step - loss: 0.2577 - categorical_accuracy: 0.9136\n",
      "Epoch 243/300\n",
      "3/3 [==============================] - 0s 61ms/step - loss: 0.2303 - categorical_accuracy: 0.9321\n",
      "Epoch 244/300\n",
      "3/3 [==============================] - 0s 66ms/step - loss: 0.2433 - categorical_accuracy: 0.9105\n",
      "Epoch 245/300\n",
      "3/3 [==============================] - 0s 70ms/step - loss: 0.2168 - categorical_accuracy: 0.9228\n",
      "Epoch 246/300\n",
      "3/3 [==============================] - 0s 69ms/step - loss: 0.1920 - categorical_accuracy: 0.9352\n",
      "Epoch 247/300\n",
      "3/3 [==============================] - 0s 65ms/step - loss: 0.2062 - categorical_accuracy: 0.9383\n",
      "Epoch 248/300\n",
      "3/3 [==============================] - 0s 66ms/step - loss: 0.2407 - categorical_accuracy: 0.9105\n",
      "Epoch 249/300\n",
      "3/3 [==============================] - 0s 64ms/step - loss: 0.2579 - categorical_accuracy: 0.9136\n",
      "Epoch 250/300\n",
      "3/3 [==============================] - 0s 65ms/step - loss: 0.2184 - categorical_accuracy: 0.8981\n",
      "Epoch 251/300\n",
      "3/3 [==============================] - 0s 64ms/step - loss: 0.3102 - categorical_accuracy: 0.8858\n",
      "Epoch 252/300\n",
      "3/3 [==============================] - 0s 69ms/step - loss: 0.3119 - categorical_accuracy: 0.8981\n",
      "Epoch 253/300\n",
      "3/3 [==============================] - 0s 70ms/step - loss: 0.4104 - categorical_accuracy: 0.8611\n",
      "Epoch 254/300\n",
      "3/3 [==============================] - 0s 71ms/step - loss: 0.3888 - categorical_accuracy: 0.8580\n",
      "Epoch 255/300\n",
      "3/3 [==============================] - 0s 68ms/step - loss: 0.3427 - categorical_accuracy: 0.8642\n",
      "Epoch 256/300\n",
      "3/3 [==============================] - 0s 68ms/step - loss: 0.3070 - categorical_accuracy: 0.8827\n",
      "Epoch 257/300\n",
      "3/3 [==============================] - 0s 72ms/step - loss: 0.2752 - categorical_accuracy: 0.8951\n",
      "Epoch 258/300\n",
      "3/3 [==============================] - 0s 69ms/step - loss: 0.2765 - categorical_accuracy: 0.8981\n",
      "Epoch 259/300\n",
      "3/3 [==============================] - 0s 71ms/step - loss: 0.2119 - categorical_accuracy: 0.9228\n",
      "Epoch 260/300\n",
      "3/3 [==============================] - 0s 67ms/step - loss: 0.2018 - categorical_accuracy: 0.9259\n",
      "Epoch 261/300\n",
      "3/3 [==============================] - 0s 65ms/step - loss: 0.2005 - categorical_accuracy: 0.9259\n",
      "Epoch 262/300\n",
      "3/3 [==============================] - 0s 68ms/step - loss: 0.2294 - categorical_accuracy: 0.9105\n",
      "Epoch 263/300\n",
      "3/3 [==============================] - 0s 68ms/step - loss: 0.1831 - categorical_accuracy: 0.9290\n",
      "Epoch 264/300\n",
      "3/3 [==============================] - 0s 63ms/step - loss: 0.2011 - categorical_accuracy: 0.9414\n",
      "Epoch 265/300\n",
      "3/3 [==============================] - 0s 59ms/step - loss: 0.3388 - categorical_accuracy: 0.8858\n",
      "Epoch 266/300\n",
      "3/3 [==============================] - 0s 66ms/step - loss: 0.4659 - categorical_accuracy: 0.8457\n",
      "Epoch 267/300\n",
      "3/3 [==============================] - 0s 63ms/step - loss: 0.4646 - categorical_accuracy: 0.8302\n",
      "Epoch 268/300\n",
      "3/3 [==============================] - 0s 67ms/step - loss: 0.4053 - categorical_accuracy: 0.8673\n",
      "Epoch 269/300\n",
      "3/3 [==============================] - 0s 67ms/step - loss: 0.3959 - categorical_accuracy: 0.8704\n",
      "Epoch 270/300\n",
      "3/3 [==============================] - 0s 67ms/step - loss: 0.3666 - categorical_accuracy: 0.8642\n",
      "Epoch 271/300\n",
      "3/3 [==============================] - 0s 65ms/step - loss: 0.4255 - categorical_accuracy: 0.8611\n",
      "Epoch 272/300\n",
      "3/3 [==============================] - 0s 66ms/step - loss: 0.3644 - categorical_accuracy: 0.8519\n",
      "Epoch 273/300\n",
      "3/3 [==============================] - 0s 67ms/step - loss: 0.3335 - categorical_accuracy: 0.8889\n",
      "Epoch 274/300\n",
      "3/3 [==============================] - 0s 67ms/step - loss: 0.3235 - categorical_accuracy: 0.8920\n",
      "Epoch 275/300\n",
      "3/3 [==============================] - 0s 67ms/step - loss: 0.2497 - categorical_accuracy: 0.9167\n",
      "Epoch 276/300\n",
      "3/3 [==============================] - 0s 66ms/step - loss: 0.2179 - categorical_accuracy: 0.9198\n",
      "Epoch 277/300\n",
      "3/3 [==============================] - 0s 64ms/step - loss: 0.2001 - categorical_accuracy: 0.9352\n",
      "Epoch 278/300\n",
      "3/3 [==============================] - 0s 66ms/step - loss: 0.1947 - categorical_accuracy: 0.9444\n",
      "Epoch 279/300\n",
      "3/3 [==============================] - 0s 68ms/step - loss: 0.1462 - categorical_accuracy: 0.9537\n",
      "Epoch 280/300\n",
      "3/3 [==============================] - 0s 69ms/step - loss: 0.1538 - categorical_accuracy: 0.9537\n",
      "Epoch 281/300\n",
      "3/3 [==============================] - 0s 69ms/step - loss: 0.1717 - categorical_accuracy: 0.9383\n",
      "Epoch 282/300\n",
      "3/3 [==============================] - 0s 63ms/step - loss: 0.1366 - categorical_accuracy: 0.9630\n",
      "Epoch 283/300\n",
      "3/3 [==============================] - 0s 67ms/step - loss: 0.1507 - categorical_accuracy: 0.9475\n",
      "Epoch 284/300\n",
      "3/3 [==============================] - 0s 67ms/step - loss: 0.1246 - categorical_accuracy: 0.9599\n",
      "Epoch 285/300\n",
      "3/3 [==============================] - 0s 69ms/step - loss: 0.1035 - categorical_accuracy: 0.9660\n",
      "Epoch 286/300\n",
      "3/3 [==============================] - 0s 65ms/step - loss: 0.0992 - categorical_accuracy: 0.9722\n",
      "Epoch 287/300\n",
      "3/3 [==============================] - 0s 69ms/step - loss: 0.0975 - categorical_accuracy: 0.9691\n",
      "Epoch 288/300\n",
      "3/3 [==============================] - 0s 65ms/step - loss: 0.1784 - categorical_accuracy: 0.9414\n",
      "Epoch 289/300\n",
      "3/3 [==============================] - 0s 59ms/step - loss: 0.2038 - categorical_accuracy: 0.9228\n",
      "Epoch 290/300\n",
      "3/3 [==============================] - 0s 64ms/step - loss: 0.3312 - categorical_accuracy: 0.8858\n",
      "Epoch 291/300\n",
      "3/3 [==============================] - 0s 66ms/step - loss: 0.1434 - categorical_accuracy: 0.9475\n",
      "Epoch 292/300\n",
      "3/3 [==============================] - 0s 68ms/step - loss: 0.1471 - categorical_accuracy: 0.9475\n",
      "Epoch 293/300\n",
      "3/3 [==============================] - 0s 65ms/step - loss: 0.1414 - categorical_accuracy: 0.9506\n",
      "Epoch 294/300\n",
      "3/3 [==============================] - 0s 64ms/step - loss: 0.1434 - categorical_accuracy: 0.9568\n",
      "Epoch 295/300\n",
      "3/3 [==============================] - 0s 66ms/step - loss: 0.1501 - categorical_accuracy: 0.9444\n",
      "Epoch 296/300\n",
      "3/3 [==============================] - 0s 70ms/step - loss: 0.1452 - categorical_accuracy: 0.9537\n",
      "Epoch 297/300\n",
      "3/3 [==============================] - 0s 66ms/step - loss: 0.1541 - categorical_accuracy: 0.9383\n",
      "Epoch 298/300\n",
      "3/3 [==============================] - 0s 65ms/step - loss: 0.1265 - categorical_accuracy: 0.9506\n",
      "Epoch 299/300\n",
      "3/3 [==============================] - 0s 67ms/step - loss: 0.1217 - categorical_accuracy: 0.9630\n",
      "Epoch 300/300\n",
      "3/3 [==============================] - 0s 64ms/step - loss: 0.1440 - categorical_accuracy: 0.9475\n"
     ]
    },
    {
     "data": {
      "text/plain": [
       "<keras.callbacks.History at 0x7fa753225160>"
      ]
     },
     "execution_count": 29,
     "metadata": {},
     "output_type": "execute_result"
    }
   ],
   "source": [
    "model.fit(X_train, y_train, batch_size=128, epochs=300, callbacks=[tb_callback])"
   ]
  },
  {
   "cell_type": "markdown",
   "metadata": {},
   "source": [
    "## 7. Make Predictions"
   ]
  },
  {
   "cell_type": "code",
   "execution_count": 42,
   "metadata": {},
   "outputs": [],
   "source": [
    "res = model.predict(X_test)"
   ]
  },
  {
   "cell_type": "markdown",
   "metadata": {},
   "source": [
    "## 8. Save Weights"
   ]
  },
  {
   "cell_type": "code",
   "execution_count": 43,
   "metadata": {},
   "outputs": [],
   "source": [
    "model.load_weights('batch128_ep300_noface.h5')"
   ]
  },
  {
   "cell_type": "markdown",
   "metadata": {},
   "source": [
    "## 9. Evaluation using Confusion Matrix and Accuracy"
   ]
  },
  {
   "cell_type": "code",
   "execution_count": 44,
   "metadata": {},
   "outputs": [],
   "source": [
    "from sklearn.metrics import multilabel_confusion_matrix, accuracy_score"
   ]
  },
  {
   "cell_type": "code",
   "execution_count": 45,
   "metadata": {},
   "outputs": [],
   "source": [
    "yhat = model.predict(X_test)"
   ]
  },
  {
   "cell_type": "code",
   "execution_count": 46,
   "metadata": {},
   "outputs": [],
   "source": [
    "ytrue = np.argmax(y_test, axis=1).tolist()\n",
    "yhat = np.argmax(yhat, axis=1).tolist()"
   ]
  },
  {
   "cell_type": "code",
   "execution_count": 47,
   "metadata": {},
   "outputs": [
    {
     "data": {
      "text/plain": [
       "array([[[25,  0],\n",
       "        [ 0,  2]],\n",
       "\n",
       "       [[23,  0],\n",
       "        [ 0,  4]],\n",
       "\n",
       "       [[24,  0],\n",
       "        [ 1,  2]],\n",
       "\n",
       "       [[25,  0],\n",
       "        [ 0,  2]],\n",
       "\n",
       "       [[24,  0],\n",
       "        [ 0,  3]],\n",
       "\n",
       "       [[25,  0],\n",
       "        [ 0,  2]],\n",
       "\n",
       "       [[22,  0],\n",
       "        [ 0,  5]],\n",
       "\n",
       "       [[23,  1],\n",
       "        [ 0,  3]],\n",
       "\n",
       "       [[24,  0],\n",
       "        [ 0,  3]]])"
      ]
     },
     "execution_count": 47,
     "metadata": {},
     "output_type": "execute_result"
    }
   ],
   "source": [
    "multilabel_confusion_matrix(ytrue, yhat)"
   ]
  },
  {
   "cell_type": "code",
   "execution_count": 48,
   "metadata": {},
   "outputs": [
    {
     "data": {
      "text/plain": [
       "0.9629629629629629"
      ]
     },
     "execution_count": 48,
     "metadata": {},
     "output_type": "execute_result"
    }
   ],
   "source": [
    "accuracy_score(ytrue, yhat)"
   ]
  },
  {
   "cell_type": "markdown",
   "metadata": {},
   "source": [
    "## 10. Test in Real Time"
   ]
  },
  {
   "cell_type": "code",
   "execution_count": 49,
   "metadata": {},
   "outputs": [],
   "source": [
    "from scipy import stats"
   ]
  },
  {
   "cell_type": "code",
   "execution_count": 47,
   "metadata": {},
   "outputs": [],
   "source": [
    "def pro_vis(input_frame):\n",
    "    return input_frame.copy() "
   ]
  },
  {
   "cell_type": "code",
   "execution_count": 66,
   "metadata": {},
   "outputs": [],
   "source": [
    "# We have no cyrillic supporting font in OpenCV Puttext.\n",
    "# So we decided  to do mapping on latin text\n",
    "cryl_mapping = {\n",
    "\"uuchlaarai\": \" ...\",\n",
    "\"salfetka_avay\": \"салфетка авъя\",\n",
    "\"ger_buliin_bagts_baina_uu\": \" гэр бүлийн багц байна уу\",\n",
    "\"kheden_minutiin_daraa_garakh_ve\": \" хэдэн минутын дараа гарах вэ\",\n",
    "\"00_khaana_ve\": \" 00 хаана вэ\",\n",
    "\"ali_ni_goy_amttai_ve\": \" аль нь гоё амттай вэ\",\n",
    "\"sain_baina_uu\": \" сайн байна уу\",\n",
    "\"naizuudiin_bagts_baina_uu\": \" найзуудын багц байна уу\",\n",
    "\"no_action\": \" ...\"\n",
    "}"
   ]
  },
  {
   "cell_type": "code",
   "execution_count": 67,
   "metadata": {},
   "outputs": [
    {
     "data": {
      "text/plain": [
       "<dnn_Model 0x7f78205f5770>"
      ]
     },
     "execution_count": 67,
     "metadata": {},
     "output_type": "execute_result"
    }
   ],
   "source": [
    "import cv2\n",
    "import datetime\n",
    "import imutils\n",
    "import numpy as np\n",
    "\n",
    "classNames = []\n",
    "classFile = \"coco.names\"\n",
    "with open(classFile, 'rt') as f:\n",
    "    classNames = f.read().rstrip(\"\\n\").split(\"\\n\")\n",
    "\n",
    "configPath = \"ssd_mobilenet_v3_large_coco_2020_01_14.pbtxt\"\n",
    "weightsPath = \"frozen_inference_graph.pb\" \n",
    "\n",
    "net = cv2.dnn_DetectionModel(weightsPath, configPath)\n",
    "\n",
    "net.setInputSize(320, 320)\n",
    "net.setInputScale(1.0/127.5)\n",
    "net.setInputMean((127.5, 127.5, 127.5))\n",
    "net.setInputSwapRB(True) \n"
   ]
  },
  {
   "cell_type": "code",
   "execution_count": 68,
   "metadata": {},
   "outputs": [
    {
     "name": "stdout",
     "output_type": "stream",
     "text": [
      "sain_baina_uu\n",
      "sain_baina_uu\n",
      "00_khaana_ve\n",
      "00_khaana_ve\n",
      "00_khaana_ve\n",
      "00_khaana_ve\n",
      "00_khaana_ve\n",
      "00_khaana_ve\n",
      "00_khaana_ve\n",
      "00_khaana_ve\n",
      "00_khaana_ve\n",
      "uuchlaarai\n",
      "uuchlaarai\n",
      "uuchlaarai\n",
      "sain_baina_uu\n",
      "sain_baina_uu\n",
      "sain_baina_uu\n",
      "sain_baina_uu\n",
      "uuchlaarai\n",
      "uuchlaarai\n",
      "ger_buliin_bagts_baina_uu\n",
      "00_khaana_ve\n",
      "00_khaana_ve\n",
      "ger_buliin_bagts_baina_uu\n",
      "ger_buliin_bagts_baina_uu\n",
      "ger_buliin_bagts_baina_uu\n",
      "ger_buliin_bagts_baina_uu\n",
      "ger_buliin_bagts_baina_uu\n",
      "ger_buliin_bagts_baina_uu\n",
      "ger_buliin_bagts_baina_uu\n",
      "ger_buliin_bagts_baina_uu\n",
      "ger_buliin_bagts_baina_uu\n",
      "ger_buliin_bagts_baina_uu\n",
      "00_khaana_ve\n",
      "ger_buliin_bagts_baina_uu\n",
      "00_khaana_ve\n",
      "ger_buliin_bagts_baina_uu\n",
      "ger_buliin_bagts_baina_uu\n",
      "00_khaana_ve\n",
      "00_khaana_ve\n",
      "00_khaana_ve\n",
      "00_khaana_ve\n",
      "ger_buliin_bagts_baina_uu\n",
      "sain_baina_uu\n",
      "00_khaana_ve\n",
      "00_khaana_ve\n",
      "00_khaana_ve\n",
      "00_khaana_ve\n",
      "00_khaana_ve\n",
      "00_khaana_ve\n",
      "00_khaana_ve\n",
      "00_khaana_ve\n",
      "00_khaana_ve\n",
      "00_khaana_ve\n",
      "00_khaana_ve\n",
      "00_khaana_ve\n",
      "00_khaana_ve\n",
      "00_khaana_ve\n",
      "00_khaana_ve\n",
      "00_khaana_ve\n",
      "00_khaana_ve\n",
      "00_khaana_ve\n",
      "00_khaana_ve\n",
      "sain_baina_uu\n",
      "sain_baina_uu\n",
      "sain_baina_uu\n",
      "00_khaana_ve\n",
      "00_khaana_ve\n",
      "00_khaana_ve\n",
      "sain_baina_uu\n",
      "00_khaana_ve\n",
      "sain_baina_uu\n",
      "sain_baina_uu\n",
      "sain_baina_uu\n",
      "sain_baina_uu\n",
      "sain_baina_uu\n",
      "sain_baina_uu\n",
      "sain_baina_uu\n",
      "sain_baina_uu\n",
      "sain_baina_uu\n",
      "00_khaana_ve\n",
      "00_khaana_ve\n",
      "ger_buliin_bagts_baina_uu\n",
      "sain_baina_uu\n",
      "sain_baina_uu\n",
      "00_khaana_ve\n",
      "00_khaana_ve\n",
      "00_khaana_ve\n",
      "00_khaana_ve\n",
      "uuchlaarai\n",
      "00_khaana_ve\n",
      "00_khaana_ve\n",
      "00_khaana_ve\n",
      "00_khaana_ve\n",
      "00_khaana_ve\n",
      "00_khaana_ve\n",
      "00_khaana_ve\n",
      "00_khaana_ve\n",
      "00_khaana_ve\n",
      "uuchlaarai\n",
      "uuchlaarai\n",
      "uuchlaarai\n",
      "00_khaana_ve\n",
      "00_khaana_ve\n",
      "00_khaana_ve\n"
     ]
    }
   ],
   "source": [
    "import cv2\n",
    "import datetime\n",
    "import imutils\n",
    "import numpy as np\n",
    "\n",
    "sequence = []\n",
    "sentence = []\n",
    "predictions = []\n",
    "threshold = 0.5\n",
    "classNames = []\n",
    "\n",
    "cap = cv2.VideoCapture(0)\n",
    "\n",
    "classFile = \"coco.names\"\n",
    "with open(classFile, 'rt') as f:\n",
    "    classNames = f.read().rstrip(\"\\n\").split(\"\\n\")\n",
    "\n",
    "configPath = \"ssd_mobilenet_v3_large_coco_2020_01_14.pbtxt\"\n",
    "weightsPath = \"frozen_inference_graph.pb\" \n",
    "\n",
    "net = cv2.dnn_DetectionModel(weightsPath, configPath)\n",
    "\n",
    "net.setInputSize(320, 320)\n",
    "net.setInputScale(1.0/127.5)\n",
    "net.setInputMean((127.5, 127.5, 127.5))\n",
    "net.setInputSwapRB(True) \n",
    "\n",
    "flag = 0 \n",
    "\n",
    "with mp_holistic.Holistic(\n",
    "    min_detection_confidence=0.8, \n",
    "    min_tracking_confidence=0.8) as holistic:\n",
    "    while cap.isOpened():\n",
    "\n",
    "        ret, frame = cap.read()\n",
    "        \n",
    "        image, results = mediapipe_detection(frame, holistic)\n",
    "        # print(results)\n",
    "\n",
    "        classIds, confs, bbox = net.detect(image, confThreshold=0.5)\n",
    "\n",
    "        # print(classIds, confs, bbox)\n",
    "        \n",
    "        if len(classIds) != 0:\n",
    "            for classId, confidence, box in zip(classIds.flatten(), confs.flatten(), bbox):\n",
    "                cv2.rectangle(image, box, color=(0, 255, 0), thickness=1)\n",
    "                flag = 1\n",
    "\n",
    "\n",
    "        keypoints = extract_keypoints(results)\n",
    "        sequence.append(keypoints)\n",
    "        sequence = sequence[-30:]\n",
    "        \n",
    "        if len(sequence) == 30:\n",
    "            res = model.predict(np.expand_dims(sequence, axis=0))[0]\n",
    "            print(actions[np.argmax(res)])\n",
    "            predictions.append(np.argmax(res))\n",
    "            \n",
    "            \n",
    "            if np.unique(predictions[-10:])[0]==np.argmax(res): \n",
    "                if res[np.argmax(res)] > threshold and res[np.argmax(res)] < 0.8: \n",
    "                    \n",
    "                    if len(sentence) > 0: \n",
    "                        if actions[np.argmax(res)] != sentence[-1]:\n",
    "                            sentence.append(actions[np.argmax(res)])\n",
    "                    else:\n",
    "                        sentence.append(actions[np.argmax(res)])\n",
    "\n",
    "            if len(sentence) > 5: \n",
    "                sentence = sentence[-5:]\n",
    "\n",
    "        #if res[np.argmax(res)] > 0.6:\n",
    "        # cv2.putText(image, \"Conf: \" + str(res[np.argmax(res)])[:4] + str(cryl_mapping[actions[np.argmax(res)]]), (15,30), \n",
    "                    #    cv2.FONT_HERSHEY_COMPLEX, 1, (255, 0, 0), 2, cv2.LINE_AA)\n",
    "    \n",
    "        cv2.putText(image, str(cryl_mapping[actions[np.argmax(res)]]), (box[0] + 10, box[1] + 30),\n",
    "                    cv2.FONT_HERSHEY_COMPLEX, 1, (2, 255, 0), 2)\n",
    "        #else:\n",
    "        # cv2.putText(image, \" \", (15,30), cv2.FONT_HERSHEY_COMPLEX, 1, (255, 255, 255), 2, cv2.LINE_AA)\n",
    "        resize = cv2.resize(image, (800, 600)) \n",
    "    \n",
    "        cv2.imshow('Real Time test', resize)\n",
    "\n",
    "        # Break bitch\n",
    "        if cv2.waitKey(10) & 0xFF == ord('C'):\n",
    "            break\n",
    "    cap.release()\n",
    "    cv2.destroyAllWindows()\n",
    "    cv2.waitKey(1)"
   ]
  },
  {
   "cell_type": "code",
   "execution_count": null,
   "metadata": {},
   "outputs": [
    {
     "data": {
      "text/plain": [
       "-1"
      ]
     },
     "execution_count": 202,
     "metadata": {},
     "output_type": "execute_result"
    }
   ],
   "source": [
    "cap.release()\n",
    "cv2.destroyAllWindows()\n",
    "cv2.waitKey(1)"
   ]
  }
 ],
 "metadata": {
  "kernelspec": {
   "display_name": "Python 3",
   "language": "python",
   "name": "python3"
  },
  "language_info": {
   "codemirror_mode": {
    "name": "ipython",
    "version": 3
   },
   "file_extension": ".py",
   "mimetype": "text/x-python",
   "name": "python",
   "nbconvert_exporter": "python",
   "pygments_lexer": "ipython3",
   "version": "3.9.9"
  }
 },
 "nbformat": 4,
 "nbformat_minor": 4
}
